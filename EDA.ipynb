{
 "cells": [
  {
   "cell_type": "code",
   "execution_count": 1,
   "metadata": {},
   "outputs": [],
   "source": [
    "import pandas as pd"
   ]
  },
  {
   "cell_type": "code",
   "execution_count": 3,
   "metadata": {},
   "outputs": [],
   "source": [
    "df = pd.read_hdf('./data/pems-bay.h5')"
   ]
  },
  {
   "cell_type": "code",
   "execution_count": 24,
   "metadata": {},
   "outputs": [
    {
     "data": {
      "text/plain": [
       "Int64Index([ 0,  5, 10, 15, 20, 25, 30, 35, 40, 45,\n",
       "            ...\n",
       "            10, 15, 20, 25, 30, 35, 40, 45, 50, 55],\n",
       "           dtype='int64', length=52116)"
      ]
     },
     "execution_count": 24,
     "metadata": {},
     "output_type": "execute_result"
    }
   ],
   "source": [
    "pd.DatetimeIndex(df.index).minute"
   ]
  },
  {
   "cell_type": "code",
   "execution_count": 5,
   "metadata": {},
   "outputs": [
    {
     "data": {
      "text/plain": [
       "array([[71.4, 67.8, 70.5, ..., 68.8, 71.1, 68. ],\n",
       "       [71.6, 67.5, 70.6, ..., 68.4, 70.8, 67.4],\n",
       "       [71.6, 67.6, 70.2, ..., 68.4, 70.5, 67.9],\n",
       "       ...,\n",
       "       [71.4, 66.9, 68.1, ..., 68.4, 71.6, 66.6],\n",
       "       [72.2, 66.5, 68. , ..., 68.7, 71.6, 68.4],\n",
       "       [71.5, 66.2, 68.4, ..., 68.7, 71.6, 68. ]])"
      ]
     },
     "execution_count": 5,
     "metadata": {},
     "output_type": "execute_result"
    }
   ],
   "source": []
  }
 ],
 "metadata": {
  "kernelspec": {
   "display_name": "Python 3.8.11 ('pytorch2')",
   "language": "python",
   "name": "python3"
  },
  "language_info": {
   "codemirror_mode": {
    "name": "ipython",
    "version": 3
   },
   "file_extension": ".py",
   "mimetype": "text/x-python",
   "name": "python",
   "nbconvert_exporter": "python",
   "pygments_lexer": "ipython3",
   "version": "3.8.11"
  },
  "orig_nbformat": 4,
  "vscode": {
   "interpreter": {
    "hash": "96e8242214b16ccc4cdd679fd0f98e2e667a8274ebc663cafd1c46d55b68d8ca"
   }
  }
 },
 "nbformat": 4,
 "nbformat_minor": 2
}
